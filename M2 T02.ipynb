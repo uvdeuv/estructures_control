{
 "cells": [
  {
   "cell_type": "markdown",
   "id": "cd2972fa",
   "metadata": {},
   "source": [
    "# E1\n",
    "L'exercici consisteix a crear un programa que et classifiqui una variable numèrica en funció de l’escala Suspès/Aprovat/Notable/Excel·lent.\n",
    "\n",
    "Recorda que Suspès < 5, Aprovat > 5 i < 7, Notable > 7 i < 9 i Excel·lent > 9."
   ]
  },
  {
   "cell_type": "code",
   "execution_count": 1,
   "id": "2baeb5fa",
   "metadata": {},
   "outputs": [
    {
     "name": "stdout",
     "output_type": "stream",
     "text": [
      "Quina nota has tret entre l'0 i el 10? 4\n",
      "la teva nota és un Suspès\n"
     ]
    }
   ],
   "source": [
    "def E1():\n",
    "    notaNum = input(\"Quina nota has tret entre l'0 i el 10? \")\n",
    "    notaNum = int(notaNum)\n",
    "    notaTxt = None\n",
    "    if (notaNum < 5):\n",
    "        notaTxt = \"Suspès\"\n",
    "    elif (5<=notaNum<7):\n",
    "        notaTxt = \"Aprovat\"\n",
    "    elif (7<=notaNum<9):\n",
    "        notaTxt = \"Notable\"\n",
    "    else:\n",
    "        notaTxt = \"Excel·lent\"\n",
    "    print(\"la teva nota és un\", notaTxt)\n",
    "E1()\n"
   ]
  },
  {
   "cell_type": "markdown",
   "id": "6bf0fe1b",
   "metadata": {},
   "source": [
    "# E2\n",
    "Utilitzant el següent tutorial crea un programa que et pregunti dos números. T’ha de mostrar un missatge dient si el primer és més gran, el segon és més gran o són iguals."
   ]
  },
  {
   "cell_type": "code",
   "execution_count": 2,
   "id": "b0a33a88",
   "metadata": {},
   "outputs": [
    {
     "name": "stdout",
     "output_type": "stream",
     "text": [
      "Digues un número 5\n",
      "Digues un altre número 8\n",
      "el segon número és més gran\n"
     ]
    }
   ],
   "source": [
    "def E2():\n",
    "    num1 = input(\"Digues un número \")\n",
    "    num2 = input(\"Digues un altre número \")\n",
    "    if (num1==num2):\n",
    "        print(\"els números són iguals\")\n",
    "    elif (num1<num2):\n",
    "        print(\"el segon número és més gran\")\n",
    "    else:\n",
    "        print(\"el primer número és més gran\")\n",
    "E2()"
   ]
  },
  {
   "cell_type": "markdown",
   "id": "c8998168",
   "metadata": {},
   "source": [
    "# E3\n",
    "Crea un programa que et pregunti el teu nom, i et demani un número. Si el número és 0, hauria de mostrar un missatge d’error. En cas contrari, hauria de mostrar el nom repetit tants cops com indiqui el número. Per exemple, “Joan Joan Joan”."
   ]
  },
  {
   "cell_type": "code",
   "execution_count": 3,
   "id": "d33f5a24",
   "metadata": {},
   "outputs": [
    {
     "name": "stdout",
     "output_type": "stream",
     "text": [
      "Com et dius? hun\n",
      "Digues un número: 6\n",
      "hun hun hun hun hun hun \n"
     ]
    }
   ],
   "source": [
    "def E3():\n",
    "    nom = input(\"Com et dius? \")\n",
    "    nom = nom + \" \"\n",
    "    num = input(\"Digues un número: \")\n",
    "    num = int(num)\n",
    "    if (num==0):\n",
    "        print(\"error\")\n",
    "    else:\n",
    "        print(num*nom)\n",
    "E3()"
   ]
  },
  {
   "cell_type": "markdown",
   "id": "9f6957eb",
   "metadata": {},
   "source": [
    "# E4\n",
    "Crea un programa que donada una llista qualsevol, et digui si és simètrica o no. Si ho és, que et digui quants elements té."
   ]
  },
  {
   "cell_type": "code",
   "execution_count": 5,
   "id": "e92659cc",
   "metadata": {},
   "outputs": [
    {
     "name": "stdout",
     "output_type": "stream",
     "text": [
      "la llista no és simètrica\n"
     ]
    }
   ],
   "source": [
    "#creem dues llistes, la normal i la invertida\n",
    "my_list = []\n",
    "r_my_list=[]\n",
    "#afegim elments a my_list\n",
    "llista =['2','3','2','5']\n",
    "my_list.extend(llista)\n",
    "#amb for loop, invertim la llista i afegim el contingut a la llista invertida\n",
    "def E4():\n",
    "    for i in reversed(my_list):\n",
    "        r_my_list.append(i)\n",
    "    #comparem el resultat i si és simétrica imprimin els elements que té\n",
    "    if (my_list==r_my_list):\n",
    "        print(\"la llista és simètrica i té \", len(my_list), \" elements\")\n",
    "    else:\n",
    "        print(\"la llista no és simètrica\")\n",
    "E4()"
   ]
  },
  {
   "cell_type": "markdown",
   "id": "cdff5813",
   "metadata": {},
   "source": [
    "# E5\n",
    "Crea un programa que donada una llista, et digui quants números coincideixen amb la seva posició. Per exemple [3,4,2,0,2,3,6] el 2 i el 6 coincideixen."
   ]
  },
  {
   "cell_type": "code",
   "execution_count": 6,
   "id": "51d84fbb",
   "metadata": {},
   "outputs": [],
   "source": [
    "#creo una llista i li afegeixo els elements de l'exemple (després ho modifico per confirmar que funciona)\n",
    "llista=[]\n",
    "lex =[3,4,2,0,2,3,6,7]\n",
    "llista.extend(lex)\n"
   ]
  },
  {
   "cell_type": "code",
   "execution_count": 8,
   "id": "b396f889",
   "metadata": {},
   "outputs": [
    {
     "name": "stdout",
     "output_type": "stream",
     "text": [
      "Counter({'1': 3})\n"
     ]
    }
   ],
   "source": [
    "# importo un contador\n",
    "def E5():\n",
    "    from collections import Counter\n",
    "    c=Counter()\n",
    "    #creo un loop for que enumeri la llista amb els elements i el seu id i ho comparo i actualitzo el contador.\n",
    "    for idx, x in enumerate(llista):\n",
    "        if (idx==x):\n",
    "            c.update('1')\n",
    "    print(c)\n",
    "E5()"
   ]
  },
  {
   "cell_type": "code",
   "execution_count": null,
   "id": "f4a8353f",
   "metadata": {},
   "outputs": [],
   "source": []
  }
 ],
 "metadata": {
  "kernelspec": {
   "display_name": "Python 3 (ipykernel)",
   "language": "python",
   "name": "python3"
  },
  "language_info": {
   "codemirror_mode": {
    "name": "ipython",
    "version": 3
   },
   "file_extension": ".py",
   "mimetype": "text/x-python",
   "name": "python",
   "nbconvert_exporter": "python",
   "pygments_lexer": "ipython3",
   "version": "3.9.12"
  }
 },
 "nbformat": 4,
 "nbformat_minor": 5
}
