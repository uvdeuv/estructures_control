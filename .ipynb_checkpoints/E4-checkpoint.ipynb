{
 "cells": [
  {
   "cell_type": "markdown",
   "id": "f8dbaf48",
   "metadata": {},
   "source": [
    "Crea un programa que donada una llista qualsevol, et digui si és simètrica o no. Si ho és, que et digui quants elements té.\n"
   ]
  },
  {
   "cell_type": "code",
   "execution_count": 22,
   "id": "78a5de19",
   "metadata": {},
   "outputs": [
    {
     "name": "stdout",
     "output_type": "stream",
     "text": [
      "la llista no és simètrica\n"
     ]
    }
   ],
   "source": [
    "#creem dues llistes, la normal i la invertida\n",
    "my_list = []\n",
    "r_my_list=[]\n",
    "#afegim elments a my_list\n",
    "llista =['2','3','2','5']\n",
    "my_list.extend(llista)\n",
    "#amb for loop, invertim la llista i afegim el contingut a la llista invertida\n",
    "for i in reversed(my_list):\n",
    "    r_my_list.append(i)\n",
    "#comparem el resultat i si és simétrica imprimin els elements que té\n",
    "if (my_list==r_my_list):\n",
    "    print(\"la llista és simètrica i té \", len(my_list), \" elements\")\n",
    "else:\n",
    "    print(\"la llista no és simètrica\")"
   ]
  },
  {
   "cell_type": "code",
   "execution_count": null,
   "id": "4587eda9",
   "metadata": {},
   "outputs": [],
   "source": []
  }
 ],
 "metadata": {
  "kernelspec": {
   "display_name": "Python 3 (ipykernel)",
   "language": "python",
   "name": "python3"
  },
  "language_info": {
   "codemirror_mode": {
    "name": "ipython",
    "version": 3
   },
   "file_extension": ".py",
   "mimetype": "text/x-python",
   "name": "python",
   "nbconvert_exporter": "python",
   "pygments_lexer": "ipython3",
   "version": "3.9.12"
  }
 },
 "nbformat": 4,
 "nbformat_minor": 5
}
