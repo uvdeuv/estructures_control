{
 "cells": [
  {
   "cell_type": "markdown",
   "id": "f3905e90",
   "metadata": {},
   "source": [
    "- Exercici 1\n",
    "Crea una funció que donat un Array d’una dimensió, et faci un resum estadístic bàsic de les dades. Si detecta que l’array té més d’una dimensió, ha de mostrar un missatge d’error.\n",
    "\n",
    "\n",
    "\n",
    "- Exercici 2\n",
    "Crea una funció que et generi un quadrat NxN de nombres aleatoris entre el 0 i el 100.\n",
    "\n",
    "\n",
    "\n",
    "- Exercici 3\n",
    "Crea una funció que donada una taula de dues dimensions (NxM), et calculi els totals per fila i els totals per columna.\n",
    "\n",
    "\n",
    "\n",
    "- Exercici 4\n",
    "Implementa manualment una funció que calculi el coeficient de correlació. Informa-te'n sobre els seus usos i interpretació."
   ]
  },
  {
   "cell_type": "markdown",
   "id": "e9d7c0f7",
   "metadata": {},
   "source": [
    "# E1\n",
    "Crea una funció que donat un Array d’una dimensió, et faci un resum estadístic bàsic de les dades. Si detecta que l’array té més d’una dimensió, ha de mostrar un missatge d’error."
   ]
  },
  {
   "cell_type": "code",
   "execution_count": 1,
   "id": "1538c6e2",
   "metadata": {},
   "outputs": [],
   "source": [
    "# primer carreguem numpy\n",
    "import numpy as np\n",
    "import pandas as pd\n"
   ]
  },
  {
   "cell_type": "code",
   "execution_count": 11,
   "id": "19d4a660",
   "metadata": {},
   "outputs": [],
   "source": [
    "#creem dos arrays, un d'una dimensió i un de més d'una\n",
    "i=np.random.randint(1,100)\n",
    "j=np.random.randint(1,100)\n",
    "a=np.random.randint(100, size=(i))\n",
    "b=np.random.randint(100, size=(i,j))\n",
    "    \n",
    "\n",
    "    "
   ]
  },
  {
   "cell_type": "code",
   "execution_count": 22,
   "id": "38c2387b",
   "metadata": {},
   "outputs": [
    {
     "data": {
      "text/plain": [
       "62.0"
      ]
     },
     "execution_count": 22,
     "metadata": {},
     "output_type": "execute_result"
    }
   ],
   "source": [
    "np.median(a)\n"
   ]
  },
  {
   "cell_type": "code",
   "execution_count": 20,
   "id": "3f508dcb",
   "metadata": {},
   "outputs": [
    {
     "name": "stdout",
     "output_type": "stream",
     "text": [
      "None\n"
     ]
    }
   ],
   "source": []
  },
  {
   "cell_type": "code",
   "execution_count": 46,
   "id": "31f02f83",
   "metadata": {},
   "outputs": [
    {
     "name": "stdout",
     "output_type": "stream",
     "text": [
      "[[41 20 74  7]\n",
      " [80 76 14 27]\n",
      " [31 59 40 66]\n",
      " [60 25 63 72]]\n"
     ]
    }
   ],
   "source": [
    "#Exercici 2 Crea una funció que et generi un quadrat NxN de nombres aleatoris entre el 0 i el 100\n",
    "def E2():\n",
    "    N=np.random.randint(1,100)\n",
    "    array = np.random.randint(100, size=(N,N))\n",
    "E2()\n",
    "print(array)"
   ]
  },
  {
   "cell_type": "code",
   "execution_count": null,
   "id": "989a970a",
   "metadata": {},
   "outputs": [],
   "source": []
  }
 ],
 "metadata": {
  "kernelspec": {
   "display_name": "Python 3 (ipykernel)",
   "language": "python",
   "name": "python3"
  },
  "language_info": {
   "codemirror_mode": {
    "name": "ipython",
    "version": 3
   },
   "file_extension": ".py",
   "mimetype": "text/x-python",
   "name": "python",
   "nbconvert_exporter": "python",
   "pygments_lexer": "ipython3",
   "version": "3.9.12"
  }
 },
 "nbformat": 4,
 "nbformat_minor": 5
}
