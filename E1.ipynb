{
 "cells": [
  {
   "cell_type": "markdown",
   "id": "cd2972fa",
   "metadata": {},
   "source": [
    "L'exercici consisteix a crear un programa que et classifiqui una variable numèrica en funció de l’escala Suspès/Aprovat/Notable/Excel·lent.\n",
    "\n",
    "Recorda que Suspès < 5, Aprovat > 5 i < 7, Notable > 7 i < 9 i Excel·lent > 9."
   ]
  },
  {
   "cell_type": "code",
   "execution_count": 18,
   "id": "2baeb5fa",
   "metadata": {},
   "outputs": [
    {
     "name": "stdout",
     "output_type": "stream",
     "text": [
      "Quina nota has tret entre l'0 i el 10? 5\n",
      "la teva nota és un Aprovat\n"
     ]
    }
   ],
   "source": [
    "notaNum = input(\"Quina nota has tret entre l'0 i el 10? \")\n",
    "notaNum = int(notaNum)\n",
    "notaTxt = None\n",
    "if (notaNum < 5):\n",
    "    notaTxt = \"Suspès\"\n",
    "elif (5<=notaNum<7):\n",
    "    notaTxt = \"Aprovat\"\n",
    "elif (7<=notaNum<9):\n",
    "    notaTxt = \"Notable\"\n",
    "else:\n",
    "    notaTxt = \"Excel·lent\"\n",
    "print(\"la teva nota és un\", notaTxt)\n",
    "    "
   ]
  },
  {
   "cell_type": "code",
   "execution_count": null,
   "id": "b0a33a88",
   "metadata": {},
   "outputs": [],
   "source": []
  }
 ],
 "metadata": {
  "kernelspec": {
   "display_name": "Python 3 (ipykernel)",
   "language": "python",
   "name": "python3"
  },
  "language_info": {
   "codemirror_mode": {
    "name": "ipython",
    "version": 3
   },
   "file_extension": ".py",
   "mimetype": "text/x-python",
   "name": "python",
   "nbconvert_exporter": "python",
   "pygments_lexer": "ipython3",
   "version": "3.9.12"
  }
 },
 "nbformat": 4,
 "nbformat_minor": 5
}
