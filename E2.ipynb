{
 "cells": [
  {
   "cell_type": "markdown",
   "id": "3311632f",
   "metadata": {},
   "source": [
    "Utilitzant el següent tutorial crea un programa que et pregunti dos números. T’ha de mostrar un missatge dient si el primer és més gran, el segon és més gran o són iguals."
   ]
  },
  {
   "cell_type": "code",
   "execution_count": 3,
   "id": "561d650d",
   "metadata": {},
   "outputs": [
    {
     "name": "stdout",
     "output_type": "stream",
     "text": [
      "Digues un número 4\n",
      "Digues un altre número 2\n",
      "el primer número és més gran\n"
     ]
    }
   ],
   "source": [
    "num1 = input(\"Digues un número \")\n",
    "num2 = input(\"Digues un altre número \")\n",
    "if (num1==num2):\n",
    "    print(\"els números són iguals\")\n",
    "elif (num1<num2):\n",
    "    print(\"el segon número és més gran\")\n",
    "else:\n",
    "    print(\"el primer número és més gran\")"
   ]
  },
  {
   "cell_type": "code",
   "execution_count": null,
   "id": "b816d40b",
   "metadata": {},
   "outputs": [],
   "source": []
  }
 ],
 "metadata": {
  "kernelspec": {
   "display_name": "Python 3 (ipykernel)",
   "language": "python",
   "name": "python3"
  },
  "language_info": {
   "codemirror_mode": {
    "name": "ipython",
    "version": 3
   },
   "file_extension": ".py",
   "mimetype": "text/x-python",
   "name": "python",
   "nbconvert_exporter": "python",
   "pygments_lexer": "ipython3",
   "version": "3.9.12"
  }
 },
 "nbformat": 4,
 "nbformat_minor": 5
}
