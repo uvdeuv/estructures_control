{
 "cells": [
  {
   "cell_type": "markdown",
   "id": "f3fb4baa",
   "metadata": {},
   "source": [
    "- Exercici 1\n",
    "Descarrega el data set Airlines Delay: Airline on-time statistics and delay causes i carrega’l a un Pandas Dataframe. Explora les dades que conté, explica breument quines variables hi ha i queda’t únicament amb les columnes que consideris rellevants. Justifica la teva elecció.\n",
    "\n",
    "->Airlines Delay: Airline on-time statistics and delay causes\n",
    "\n",
    " Important\n",
    "\n",
    "Redueix la dimensió del dataset de manera aleatòria per tal d'obtenir un dataset de només 200.000 registres. Tots els exercicis s'han de fer amb aquest dataset reduït.\n",
    "\n",
    "\n",
    "\n",
    "- Exercici 2\n",
    "Fes un informe complet del dataset:\n",
    "\n",
    "Resumeix estadísticament el dataset i les columnes d’interès. Fes una anàlisi estadístic del que consideris rellevant.\n",
    "Troba quantes dades faltants hi ha per columna.\n",
    "Crea columnes noves (velocitat mitjana del vol, si ha arribat tard o no...).\n",
    "Fes una taula de les aerolínies amb més endarreriments acumulats.\n",
    "Quins són els vols més llargs? I els més endarrerits? Busca les rutes més llargues i les que acumulen més retards.\n",
    "Aporta allò que consideris rellevant.\n",
    "\n",
    "\n",
    "- Exercici 3\n",
    "Exporta el dataset net i amb les noves columnes a Excel.\n",
    "\n"
   ]
  },
  {
   "cell_type": "markdown",
   "id": "34b07bdb",
   "metadata": {},
   "source": [
    "# E1\n",
    "Descarrega el data set Airlines Delay: Airline on-time statistics and delay causes i carrega’l a un Pandas Dataframe. Explora les dades que conté, explica breument quines variables hi ha i queda’t únicament amb les columnes que consideris rellevants. Justifica la teva elecció."
   ]
  },
  {
   "cell_type": "code",
   "execution_count": 1,
   "id": "19d86c73",
   "metadata": {},
   "outputs": [],
   "source": [
    "import pandas as pd"
   ]
  },
  {
   "cell_type": "code",
   "execution_count": null,
   "id": "65390c74",
   "metadata": {},
   "outputs": [],
   "source": []
  }
 ],
 "metadata": {
  "kernelspec": {
   "display_name": "Python 3 (ipykernel)",
   "language": "python",
   "name": "python3"
  },
  "language_info": {
   "codemirror_mode": {
    "name": "ipython",
    "version": 3
   },
   "file_extension": ".py",
   "mimetype": "text/x-python",
   "name": "python",
   "nbconvert_exporter": "python",
   "pygments_lexer": "ipython3",
   "version": "3.9.12"
  }
 },
 "nbformat": 4,
 "nbformat_minor": 5
}
