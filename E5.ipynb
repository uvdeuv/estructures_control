{
 "cells": [
  {
   "cell_type": "markdown",
   "id": "f8c36413",
   "metadata": {},
   "source": [
    "Crea un programa que donada una llista, et digui quants números coincideixen amb la seva posició. Per exemple [3,4,2,0,2,3,6] el 2 i el 6 coincideixen."
   ]
  },
  {
   "cell_type": "code",
   "execution_count": 7,
   "id": "121d92b1",
   "metadata": {},
   "outputs": [],
   "source": [
    "#creo una llista i li afegeixo els elements de l'exemple (després ho modifico per confirmar que funciona)\n",
    "llista=[]\n",
    "lex =[3,4,2,0,2,3,6,7]\n",
    "llista.extend(lex)\n",
    "\n"
   ]
  },
  {
   "cell_type": "code",
   "execution_count": 19,
   "id": "4cc9f646",
   "metadata": {},
   "outputs": [
    {
     "name": "stdout",
     "output_type": "stream",
     "text": [
      "Counter({'1': 3})\n"
     ]
    }
   ],
   "source": [
    "# importo un contador\n",
    "from collections import Counter\n",
    "c=Counter()\n",
    "#creo un loop for que enumeri la llista amb els elements i el seu id i ho comparo i actualitzo el contador.\n",
    "for idx, x in enumerate(llista):\n",
    "    if (idx==x):\n",
    "        c.update('1')\n",
    "print(c)\n"
   ]
  },
  {
   "cell_type": "code",
   "execution_count": null,
   "id": "9da7c4bf",
   "metadata": {},
   "outputs": [],
   "source": []
  }
 ],
 "metadata": {
  "kernelspec": {
   "display_name": "Python 3 (ipykernel)",
   "language": "python",
   "name": "python3"
  },
  "language_info": {
   "codemirror_mode": {
    "name": "ipython",
    "version": 3
   },
   "file_extension": ".py",
   "mimetype": "text/x-python",
   "name": "python",
   "nbconvert_exporter": "python",
   "pygments_lexer": "ipython3",
   "version": "3.9.12"
  }
 },
 "nbformat": 4,
 "nbformat_minor": 5
}
