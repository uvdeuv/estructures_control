{
 "cells": [
  {
   "cell_type": "markdown",
   "id": "321c5423",
   "metadata": {},
   "source": [
    "Crea un programa que et pregunti el teu nom, i et demani un número. Si el número és 0, hauria de mostrar un missatge d’error. En cas contrari, hauria de mostrar el nom repetit tants cops com indiqui el número. Per exemple, “Joan Joan Joan”."
   ]
  },
  {
   "cell_type": "code",
   "execution_count": 3,
   "id": "dc5d1569",
   "metadata": {},
   "outputs": [
    {
     "name": "stdout",
     "output_type": "stream",
     "text": [
      "Com et dius? laura\n",
      "Digues un número: 4\n",
      "laura laura laura laura \n"
     ]
    }
   ],
   "source": [
    "nom = input(\"Com et dius? \")\n",
    "nom = nom + \" \"\n",
    "num = input(\"Digues un número: \")\n",
    "num = int(num)\n",
    "if (num==0):\n",
    "    print(\"error\")\n",
    "else:\n",
    "    print(num*nom)"
   ]
  },
  {
   "cell_type": "code",
   "execution_count": null,
   "id": "a76a36a2",
   "metadata": {},
   "outputs": [],
   "source": []
  }
 ],
 "metadata": {
  "kernelspec": {
   "display_name": "Python 3 (ipykernel)",
   "language": "python",
   "name": "python3"
  },
  "language_info": {
   "codemirror_mode": {
    "name": "ipython",
    "version": 3
   },
   "file_extension": ".py",
   "mimetype": "text/x-python",
   "name": "python",
   "nbconvert_exporter": "python",
   "pygments_lexer": "ipython3",
   "version": "3.9.12"
  }
 },
 "nbformat": 4,
 "nbformat_minor": 5
}
